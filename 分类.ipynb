{
 "cells": [
  {
   "cell_type": "code",
   "execution_count": 20,
   "metadata": {},
   "outputs": [
    {
     "name": "stdout",
     "output_type": "stream",
     "text": [
      "C:\\Users\\Summerki\\scikit_learn_data\n",
      "(70000, 784)\n",
      "(70000,)\n"
     ]
    },
    {
     "name": "stderr",
     "output_type": "stream",
     "text": [
      "D:\\1-Anaconda\\AnacondaInstall\\lib\\site-packages\\sklearn\\utils\\deprecation.py:77: DeprecationWarning: Function fetch_mldata is deprecated; fetch_mldata was deprecated in version 0.20 and will be removed in version 0.22\n",
      "  warnings.warn(msg, category=DeprecationWarning)\n",
      "D:\\1-Anaconda\\AnacondaInstall\\lib\\site-packages\\sklearn\\utils\\deprecation.py:77: DeprecationWarning: Function mldata_filename is deprecated; mldata_filename was deprecated in version 0.20 and will be removed in version 0.22\n",
      "  warnings.warn(msg, category=DeprecationWarning)\n"
     ]
    }
   ],
   "source": [
    "# 监督学习任务\n",
    "# 1. 回归，预测某个值\n",
    "# 2. 分类，预测某个类别\n",
    "\n",
    "# 从sklearn导入mnist手写数据集\n",
    "\n",
    "from sklearn.datasets import fetch_mldata\n",
    "mnist = fetch_mldata('MNIST original')\n",
    "\n",
    "# 注意，上面90%不会下载成功MNIST数据集\n",
    "# 参考博客：https://blog.csdn.net/cckavin/article/details/86568516解决\n",
    "from sklearn.datasets.base import get_data_home\n",
    "print(get_data_home())\n",
    "\n",
    "\n",
    "# sklearn下载下来的数据集大概都有相同的字典结构\n",
    "# DESCR 键描述数据集\n",
    "# data 键存放一个数组， 数组的一行表示一个样例， 一列表示一个特征\n",
    "# target 键存放一个标签数组\n",
    "X, y = mnist['data'], mnist['target']\n",
    "print(X.shape)  # 所以MNIST数据集有70000张图片，每张图片有784个特征\n",
    "print(y.shape)"
   ]
  },
  {
   "cell_type": "code",
   "execution_count": 21,
   "metadata": {},
   "outputs": [
    {
     "name": "stdout",
     "output_type": "stream",
     "text": [
      "(784,)\n",
      "[[  0   0   0   0   0   0   0   0   0   0   0   0   0   0   0   0   0   0\n",
      "    0   0   0   0   0   0   0   0   0   0]\n",
      " [  0   0   0   0   0   0   0   0   0   0   0   0   0   0   0   0   0   0\n",
      "    0   0   0   0   0   0   0   0   0   0]\n",
      " [  0   0   0   0   0   0   0   0   0   0   0   0   0   0   0   0   0   0\n",
      "    0   0   0   0   0   0   0   0   0   0]\n",
      " [  0   0   0   0   0   0   0   0   0   0   0   0   0   0   0   0   0   0\n",
      "    0   0   0   0   0   0   0   0   0   0]\n",
      " [  0   0   0   0   0   0   0   0   0   0   0   0   0   0   0   0   0   0\n",
      "    0   0   0   0   0   0   0   0   0   0]\n",
      " [  0   0   0   0   0   0   0   0   0   0   0   0   0   0   0   0   0   0\n",
      "    0  86 131 225 225 225   0   0   0   0]\n",
      " [  0   0   0   0   0   0   0   0   0   0   0   0   0   0   0   0  13  73\n",
      "  197 253 252 252 252 252   0   0   0   0]\n",
      " [  0   0   0   0   0   0   0   0   0   0   0   0   4  29  29 154 187 252\n",
      "  252 253 252 252 233 145   0   0   0   0]\n",
      " [  0   0   0   0   0   0   0   0   0   0   0   0  29 252 253 252 252 252\n",
      "  252 253 204 112  37   0   0   0   0   0]\n",
      " [  0   0   0   0   0   0   0   0   0   0   0   0 169 253 255 253 228 126\n",
      "    0   0   0   0   0   0   0   0   0   0]\n",
      " [  0   0   0   0   0   0   0   0   0   0   0  98 243 252 253 252 246 130\n",
      "   38   0   0   0   0   0   0   0   0   0]\n",
      " [  0   0   0   0   0   0   0   0   0   0  98 240 252 252 253 252 252 252\n",
      "  221   0   0   0   0   0   0   0   0   0]\n",
      " [  0   0   0   0   0   0   0   0   0   0 225 252 252 236 225 223 230 252\n",
      "  252   0   0   0   0   0   0   0   0   0]\n",
      " [  0   0   0   0   0   0   0   0   0   0 146 252 157  50   0   0  25 205\n",
      "  252   0   0   0   0   0   0   0   0   0]\n",
      " [  0   0   0   0   0   0   0   0   0   0   0   0   0   0   0   0  26 207\n",
      "  253   0   0   0   0   0   0   0   0   0]\n",
      " [  0   0   0   0   0  29  19   0   0   0   0   0   0   0   0   0  73 205\n",
      "  252  79   0   0   0   0   0   0   0   0]\n",
      " [  0   0   0   0 120 215 209 175   0   0   0   0   0   0   0  19 209 252\n",
      "  220  79   0   0   0   0   0   0   0   0]\n",
      " [  0   0   0   0 174 252 252 239 140   0   0   0   0   0  29 104 252 249\n",
      "  177   0   0   0   0   0   0   0   0   0]\n",
      " [  0   0   0   0 174 252 252 223   0   0   0   0   0   0 174 252 252 223\n",
      "    0   0   0   0   0   0   0   0   0   0]\n",
      " [  0   0   0   0 141 241 253 146   0   0   0   0 169 253 255 253 253  84\n",
      "    0   0   0   0   0   0   0   0   0   0]\n",
      " [  0   0   0   0   0 178 252 154  85  85 210 225 243 252 215 121  27   9\n",
      "    0   0   0   0   0   0   0   0   0   0]\n",
      " [  0   0   0   0   0  66 208 220 252 253 252 252 214 195  31   0   0   0\n",
      "    0   0   0   0   0   0   0   0   0   0]\n",
      " [  0   0   0   0   0   0  19  37  84 146 223 114  28   0   0   0   0   0\n",
      "    0   0   0   0   0   0   0   0   0   0]\n",
      " [  0   0   0   0   0   0   0   0   0   0   0   0   0   0   0   0   0   0\n",
      "    0   0   0   0   0   0   0   0   0   0]\n",
      " [  0   0   0   0   0   0   0   0   0   0   0   0   0   0   0   0   0   0\n",
      "    0   0   0   0   0   0   0   0   0   0]\n",
      " [  0   0   0   0   0   0   0   0   0   0   0   0   0   0   0   0   0   0\n",
      "    0   0   0   0   0   0   0   0   0   0]\n",
      " [  0   0   0   0   0   0   0   0   0   0   0   0   0   0   0   0   0   0\n",
      "    0   0   0   0   0   0   0   0   0   0]\n",
      " [  0   0   0   0   0   0   0   0   0   0   0   0   0   0   0   0   0   0\n",
      "    0   0   0   0   0   0   0   0   0   0]]\n"
     ]
    },
    {
     "data": {
      "image/png": "[encoded data removed]",
      "text/plain": [
       "<Figure size 432x288 with 1 Axes>"
      ]
     },
     "metadata": {
      "needs_background": "light"
     },
     "output_type": "display_data"
    }
   ],
   "source": [
    "import matplotlib \n",
    "import matplotlib.pyplot as plt\n",
    "some_digit = X[36000] # 取了第36000行\n",
    "print(some_digit.shape) # 输出784\n",
    "some_digit_image = some_digit.reshape(28,28) # 将其改为28*28\n",
    "print(some_digit_image)\n",
    "plt.imshow(some_digit_image, cmap=matplotlib.cm.binary, interpolation='nearest')\n",
    "plt.axis('off')\n",
    "plt.show()"
   ]
  },
  {
   "cell_type": "code",
   "execution_count": 22,
   "metadata": {},
   "outputs": [
    {
     "name": "stdout",
     "output_type": "stream",
     "text": [
      "5.0\n"
     ]
    }
   ],
   "source": [
    "# 上面的数字看起来像5\n",
    "# 验证方法，从标签数组中进行验证\n",
    "print(y[36000])"
   ]
  },
  {
   "cell_type": "code",
   "execution_count": 32,
   "metadata": {},
   "outputs": [
    {
     "name": "stdout",
     "output_type": "stream",
     "text": [
      "(60000, 784)\n",
      "[  515 19289 18948 ... 41243  4443 12829]\n",
      "[  0   0   0   0   0   0   0   0   0   0   0   0   0   0   0   0   0   0\n",
      "   0   0   0   0   0   0   0   0   0   0   0   0   0   0   0   0   0   0\n",
      "   0   0   0   0   0   0   0   0   0   0   0   0   0   0   0   0   0   0\n",
      "   0   0   0   0   0   0   0   0   0   0   0   0   0   0   0   0   0   0\n",
      "   0   0   0   0   0   0   0   0   0   0   0   0   0   0   0   0   0   0\n",
      "   0   0   0   0   0 158 254 255 231  61   3   0   0   0   0   0   0   0\n",
      "   0   0   0   0   0   0   0   0   0   0   0   0   0   0   0 157 253 253\n",
      " 253 253  48   0   0   0   0   0   0   0   0   0   0   0   0   0   0   0\n",
      "   0   0   0   0   0   0   0 109 253 253 253 253 228  41   0   0   0   0\n",
      "   0   0   0   0   0   0   0   0   0   0   0   0   0   0   0   0   0 114\n",
      " 253 253 253 253 253 204   9   0   0   0   0   0   0   0   0   0   0   0\n",
      "   0   0   0   0   0   0   0   0   0 157 253 253 253 253 253 253 128   0\n",
      "   0   0   0   0   0   0   0   0   0   0   0   0   0   0   0   0   0   0\n",
      "   0 111 253 253 253 198 253 253 156   0   0   0   0   0   0   0   0   0\n",
      "   0   0   0   0   0   0   0   0   0   0   0 157 233 253 199  21 238 253\n",
      " 156   0   0   0   0   0   0   0   0   0   0   0   0   0   0   0   0   0\n",
      "   0   0  46 194  34  59  22  32 243 253 120   0   0   0   0   0   0   0\n",
      "   0   0   0   0   0   0   0   0   0   0   0   0  10  17   0   0   0 145\n",
      " 253 250  45   0   0   0   0   0   0   0   0   0   0   0   0   0   0   0\n",
      "   0   0   0   0   0   0   0   0   0 200 253 194   0   0   0   0   0   0\n",
      "   0   0   0   0   0   0   0   0   0   0   0   0   0   0   0   0   0   0\n",
      "  43 242 253 194   0   0   0   0   0   0   0   0   0   0   0   0   0   0\n",
      "   0   0   0   0   0   0   0   0   0   9 203 253 252  85   0   0   0   0\n",
      "   0   0   0   0   0   0   0   0   0   0   0   0   0   0  36  95 163  81\n",
      " 168 173 253 253 185   0   0   0   0   0   0   0   0   0   0   0   0   0\n",
      "   0   0   0   0   0 134 234 253 253 253 253 253 253 253 249 180  98  46\n",
      "   0   0   0   0   0   0   0   0   0   0   0   0   0   5 184 252 253 253\n",
      " 252 243 253 253 253 253 253 253 253 248 142  28  13   0   0   0   0   0\n",
      "   0   0   0   0   0  38 253 253 196  81  77 157 253 253 188  81 135 204\n",
      " 253 253 253 253 209  80   0   0   0   0   0   0   0   0   0  23 225 253\n",
      " 102   0 143 237 253 196  16   0   0  10 130 249 253 253 253 183   0   0\n",
      "   0   0   0   0   0   0   0   0 184 253 167 148 253 253 205  12   0   0\n",
      "   0   0   0  16 140 234 249 114   0   0   0   0   0   0   0   0   0   0\n",
      "  55 201 253 253 253 210  75   0   0   0   0   0   0   0   0  31  66   0\n",
      "   0   0   0   0   0   0   0   0   0   0   0  68 253 253 151  15   0   0\n",
      "   0   0   0   0   0   0   0   0   0   0   0   0   0   0   0   0   0   0\n",
      "   0   0   0   0   0   0   0   0   0   0   0   0   0   0   0   0   0   0\n",
      "   0   0   0   0   0   0   0   0   0   0   0   0   0   0   0   0   0   0\n",
      "   0   0   0   0   0   0   0   0   0   0   0   0   0   0   0   0   0   0\n",
      "   0   0   0   0   0   0   0   0   0   0   0   0   0   0   0   0   0   0\n",
      "   0   0   0   0   0   0   0   0   0   0   0   0   0   0   0   0   0   0\n",
      "   0   0   0   0   0   0   0   0   0   0   0   0   0   0   0   0   0   0\n",
      "   0   0   0   0   0   0   0   0   0   0   0   0   0   0   0   0   0   0\n",
      "   0   0   0   0   0   0   0   0   0   0]\n",
      "[[0 0 0 ... 0 0 0]\n",
      " [0 0 0 ... 0 0 0]\n",
      " [0 0 0 ... 0 0 0]\n",
      " ...\n",
      " [0 0 0 ... 0 0 0]\n",
      " [0 0 0 ... 0 0 0]\n",
      " [0 0 0 ... 0 0 0]]\n",
      "[0. 3. 3. ... 6. 0. 2.]\n"
     ]
    }
   ],
   "source": [
    "# MNIST数据集原本已经分好训练集和测试集了（60000+10000）\n",
    "X_train, X_test, y_train, y_test = X[:60000], X[60000:], y[:60000], y[60000:]\n",
    "print(X_train.shape)\n",
    "\n",
    "# 为了保证交叉验证，决定打乱数据集\n",
    "import numpy as np\n",
    "\n",
    "# np.random.permutation:随机排列一个序列，返回一个排列的序列\n",
    "shuffle_index = np.random.permutation(60000)\n",
    "print(shuffle_index)\n",
    "X_train, y_train = X_train[shuffle_index], y_train[shuffle_index]    # 这里将训练集都打乱了\n",
    "print(X_train)\n",
    "print(y_train)"
   ]
  },
  {
   "cell_type": "code",
   "execution_count": 36,
   "metadata": {},
   "outputs": [
    {
     "name": "stdout",
     "output_type": "stream",
     "text": [
      "[4 5 0 3 1 2]\n",
      "train: [5 6 1 4 2 3]\n",
      "test: [5 6 1 4 2 3]\n"
     ]
    }
   ],
   "source": [
    "# 这个cell块是为了验证上面的cell块是干什么用的\n",
    "# 得出结论：把train、test数组内容不变，只是将顺序打乱\n",
    "# train = np.array([1,2,3,4,5,6])\n",
    "# test = np.array([1,2,3,4,5,6])\n",
    "\n",
    "# shuffle = np.random.permutation(6)\n",
    "# print(shuffle)\n",
    "\n",
    "# train, test = train[shuffle], test[shuffle]\n",
    "# print(\"train:\",train)\n",
    "# print(\"test:\",test)"
   ]
  },
  {
   "cell_type": "code",
   "execution_count": 42,
   "metadata": {},
   "outputs": [
    {
     "name": "stderr",
     "output_type": "stream",
     "text": [
      "D:\\1-Anaconda\\AnacondaInstall\\lib\\site-packages\\sklearn\\linear_model\\stochastic_gradient.py:166: FutureWarning: max_iter and tol parameters have been added in SGDClassifier in 0.19. If both are left unset, they default to max_iter=5 and tol=None. If tol is not None, max_iter defaults to max_iter=1000. From 0.21, default max_iter will be 1000, and default tol will be 1e-3.\n",
      "  FutureWarning)\n"
     ]
    },
    {
     "data": {
      "text/plain": [
       "array([ True])"
      ]
     },
     "execution_count": 42,
     "metadata": {},
     "output_type": "execute_result"
    }
   ],
   "source": [
    "# 训练一个二分类器\n",
    "# 识别数字5，只有两种结果：5或非5\n",
    "\n",
    "y_train_5 = (y_train == 5)\n",
    "y_test_5 = (y_test == 5)\n",
    "\n",
    "from sklearn.linear_model import SGDClassifier\n",
    "sgd_clf = SGDClassifier(random_state=42)\n",
    "sgd_clf.fit(X_train, y_train_5)\n",
    "\n",
    "sgd_clf.predict([some_digit])"
   ]
  },
  {
   "cell_type": "code",
   "execution_count": null,
   "metadata": {},
   "outputs": [],
   "source": []
  }
 ],
 "metadata": {
  "kernelspec": {
   "display_name": "Python 3",
   "language": "python",
   "name": "python3"
  },
  "language_info": {
   "codemirror_mode": {
    "name": "ipython",
    "version": 3
   },
   "file_extension": ".py",
   "mimetype": "text/x-python",
   "name": "python",
   "nbconvert_exporter": "python",
   "pygments_lexer": "ipython3",
   "version": "3.7.3"
  }
 },
 "nbformat": 4,
 "nbformat_minor": 2
}
